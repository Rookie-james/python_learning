{
 "cells": [
  {
   "cell_type": "code",
   "execution_count": 19,
   "metadata": {},
   "outputs": [
    {
     "data": {
      "image/png": "[encoded data removed]",
      "text/plain": [
       "<Figure size 432x288 with 1 Axes>"
      ]
     },
     "metadata": {},
     "output_type": "display_data"
    }
   ],
   "source": [
    "# 直方图\n",
    "\n",
    "import pandas as pd\n",
    "import matplotlib.pyplot as plt\n",
    "\n",
    "Titanic = pd.read_csv(r\"D:\\ProgramData\\python数据分析与挖掘\\Python数据分析与挖掘【326789】数据类型不同，包装不同-离散型（一）\\第10章 Python数据可视化\\titanic_train.csv\")\n",
    "\n",
    "plt.rcParams['font.sans-serif']=['SimHei'] \n",
    "plt.style.use('ggplot')  # 设置绘图风格\n",
    "\n",
    "# 检查年龄是否有缺失，（如果数据存在缺失值，将无法绘制直方图）\n",
    "any(Titanic.Age.isnull())\n",
    "\n",
    "# 删除含有缺失年龄的观察\n",
    "Titanic.dropna(subset=['Age'], inplace = True)\n",
    "\n",
    "# 绘制直方图\n",
    "plt.hist(x = Titanic.Age,  # 指定绘图数据\n",
    "        bins = 20,  # 指定直方图中条块的个数\n",
    "        color = 'steelblue',  # 指定直方图的填充色\n",
    "        edgecolor = 'black',  # 指定直方图的边框色\n",
    "        )\n",
    "\n",
    "# 添加x轴和y轴标签\n",
    "plt.xlabel('年龄')\n",
    "plt.ylabel('频数')\n",
    "\n",
    "# 添加标题\n",
    "plt.title('乘客年龄分布')\n",
    "\n",
    "# 显示图像\n",
    "plt.show()"
   ]
  },
  {
   "cell_type": "code",
   "execution_count": 35,
   "metadata": {},
   "outputs": [
    {
     "data": {
      "image/png": "[encoded data removed]",
      "text/plain": [
       "<Figure size 432x288 with 1 Axes>"
      ]
     },
     "metadata": {},
     "output_type": "display_data"
    }
   ],
   "source": [
    "# 箱线图\n",
    "\n",
    "Sec_Buildings = pd.read_excel(r\"D:\\ProgramData\\python数据分析与挖掘\\Python数据分析与挖掘【326789】数据类型不同，包装不同-离散型（一）\\第10章 Python数据可视化\\sec_buildings.xlsx\")\n",
    "\n",
    "# 绘制箱线图\n",
    "plt.boxplot(x = Sec_Buildings.price_unit,  # 指定绘图数据\n",
    "            patch_artist = True,  # 要求用自定义颜色填充盒型图，默认白色填充\n",
    "            showmeans = True,  # 以点的形式显示均值\n",
    "            boxprops = {'color':'black','facecolor':'steelblue'}, # 设置箱体属性，如边框色和填充色\n",
    "            # 设置异常点属性，如形状、填充色和点的大小\n",
    "            flierprops = {'marker':'o','markerfacecolor':'red','markersize':3,'markeredgecolor':'red'},\n",
    "            # 设置均值点的属性，如形状、填充色和点的大小\n",
    "            meanprops = {'marker':'D','markerfacecolor':'indianred','markersize':4},\n",
    "            # 设置中位数线的属性，如线的类型和颜色\n",
    "            medianprops = {'linestyle':'--','color':'orange'},\n",
    "            labels = ['']  # 删除x轴的刻度标签，否则图像显示刻度标签为1\n",
    "           )\n",
    "# 添加图像标题\n",
    "plt.title('二手房单价分布的箱线图')\n",
    "# 显示图形\n",
    "plt.show()\n"
   ]
  },
  {
   "cell_type": "code",
   "execution_count": 60,
   "metadata": {},
   "outputs": [
    {
     "name": "stdout",
     "output_type": "stream",
     "text": [
      "Using matplotlib backend: Qt5Agg\n"
     ]
    }
   ],
   "source": [
    "# 折线图\n",
    "import matplotlib as mpl\n",
    "\n",
    "# 弹窗形式展现\n",
    "%matplotlib\n",
    "\n",
    "wechat = pd.read_excel(r\"D:\\ProgramData\\python数据分析与挖掘\\Python数据分析与挖掘【326789】数据类型不同，包装不同-离散型（一）\\第10章 Python数据可视化\\wechat.xlsx\")\n",
    "\n",
    "# 绘制单条折线图\n",
    "plt.plot(wechat.Date,  # x轴数据\n",
    "        wechat.Counts,  # y轴数据\n",
    "        linestyle = '-',  # 折线类型\n",
    "        linewidth = 2,  # 折线宽度\n",
    "        color = 'steelblue', # 折线颜色\n",
    "        marker = 'o',  # 折线图中添加圆点\n",
    "        markersize = 3,  # 点的大小\n",
    "        markeredgecolor = 'black',  # 点的边框色\n",
    "        markerfacecolor = 'red'  # 点的填充色\n",
    "        )\n",
    "\n",
    "# 获取图像坐标信息\n",
    "ax = plt.gca()\n",
    "# 设置日期的显示格式\n",
    "date_format = mpl.dates.DateFormatter(\"%m-%d\")\n",
    "ax.xaxis.set_major_formatter(date_format)\n",
    "\n",
    "# 设置x轴每个刻度的间隔天数\n",
    "# xlocator = mpl.ticker.LinearLocator(10)\n",
    "# 设置x轴每个刻度的间隔天数\n",
    "xlocator = mpl.ticker.MultipleLocator(7)\n",
    "ax.xaxis.set_major_locator(xlocator)\n",
    "# 为了避免x轴刻度标签的紧凑，将刻度标签旋转45度\n",
    "plt.xticks(rotation = 45)\n",
    "\n",
    "# 添加y轴标签\n",
    "plt.ylabel('人数')\n",
    "\n",
    "# 添加图形标题\n",
    "plt.title('每天微信文章阅读人数趋势')\n",
    "\n",
    "# 显示图形\n",
    "plt.show()\n"
   ]
  },
  {
   "cell_type": "code",
   "execution_count": null,
   "metadata": {},
   "outputs": [],
   "source": []
  }
 ],
 "metadata": {
  "kernelspec": {
   "display_name": "Python 3",
   "language": "python",
   "name": "python3"
  },
  "language_info": {
   "codemirror_mode": {
    "name": "ipython",
    "version": 3
   },
   "file_extension": ".py",
   "mimetype": "text/x-python",
   "name": "python",
   "nbconvert_exporter": "python",
   "pygments_lexer": "ipython3",
   "version": "3.7.6"
  }
 },
 "nbformat": 4,
 "nbformat_minor": 4
}
