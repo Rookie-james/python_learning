{
 "cells": [
  {
   "cell_type": "code",
   "execution_count": 7,
   "metadata": {},
   "outputs": [
    {
     "data": {
      "text/html": [
       "<div>\n",
       "<style scoped>\n",
       "    .dataframe tbody tr th:only-of-type {\n",
       "        vertical-align: middle;\n",
       "    }\n",
       "\n",
       "    .dataframe tbody tr th {\n",
       "        vertical-align: top;\n",
       "    }\n",
       "\n",
       "    .dataframe thead th {\n",
       "        text-align: right;\n",
       "    }\n",
       "</style>\n",
       "<table border=\"1\" class=\"dataframe\">\n",
       "  <thead>\n",
       "    <tr style=\"text-align: right;\">\n",
       "      <th></th>\n",
       "      <th>Brand</th>\n",
       "      <th>Name</th>\n",
       "      <th>Boarding_time</th>\n",
       "      <th>Km(W)</th>\n",
       "      <th>Discharge</th>\n",
       "      <th>Sec_price</th>\n",
       "      <th>New_price</th>\n",
       "    </tr>\n",
       "  </thead>\n",
       "  <tbody>\n",
       "    <tr>\n",
       "      <th>0</th>\n",
       "      <td>众泰</td>\n",
       "      <td>众泰T600 2016款 1.5T 手动 豪华型</td>\n",
       "      <td>2016年5月</td>\n",
       "      <td>3.96</td>\n",
       "      <td>国4</td>\n",
       "      <td>6.8</td>\n",
       "      <td>9.42万</td>\n",
       "    </tr>\n",
       "    <tr>\n",
       "      <th>1</th>\n",
       "      <td>众泰</td>\n",
       "      <td>众泰Z700 2016款 1.8T 手动 典雅型</td>\n",
       "      <td>2017年8月</td>\n",
       "      <td>0.08</td>\n",
       "      <td>国4,国5</td>\n",
       "      <td>8.8</td>\n",
       "      <td>11.92万</td>\n",
       "    </tr>\n",
       "    <tr>\n",
       "      <th>2</th>\n",
       "      <td>众泰</td>\n",
       "      <td>大迈X5 2015款 1.5T 手动 豪华型</td>\n",
       "      <td>2016年9月</td>\n",
       "      <td>0.80</td>\n",
       "      <td>国4</td>\n",
       "      <td>5.8</td>\n",
       "      <td>8.56万</td>\n",
       "    </tr>\n",
       "    <tr>\n",
       "      <th>3</th>\n",
       "      <td>众泰</td>\n",
       "      <td>众泰T600 2017款 1.5T 手动 精英贺岁版</td>\n",
       "      <td>2017年3月</td>\n",
       "      <td>0.30</td>\n",
       "      <td>国5</td>\n",
       "      <td>6.2</td>\n",
       "      <td>8.66万</td>\n",
       "    </tr>\n",
       "    <tr>\n",
       "      <th>4</th>\n",
       "      <td>众泰</td>\n",
       "      <td>众泰T600 2016款 1.5T 手动 旗舰型</td>\n",
       "      <td>2016年2月</td>\n",
       "      <td>1.70</td>\n",
       "      <td>国4</td>\n",
       "      <td>7.0</td>\n",
       "      <td>11.59万</td>\n",
       "    </tr>\n",
       "  </tbody>\n",
       "</table>\n",
       "</div>"
      ],
      "text/plain": [
       "  Brand                        Name Boarding_time  Km(W) Discharge  Sec_price  \\\n",
       "0    众泰    众泰T600 2016款 1.5T 手动 豪华型       2016年5月   3.96        国4        6.8   \n",
       "1    众泰    众泰Z700 2016款 1.8T 手动 典雅型       2017年8月   0.08     国4,国5        8.8   \n",
       "2    众泰      大迈X5 2015款 1.5T 手动 豪华型       2016年9月   0.80        国4        5.8   \n",
       "3    众泰  众泰T600 2017款 1.5T 手动 精英贺岁版       2017年3月   0.30        国5        6.2   \n",
       "4    众泰    众泰T600 2016款 1.5T 手动 旗舰型       2016年2月   1.70        国4        7.0   \n",
       "\n",
       "  New_price  \n",
       "0     9.42万  \n",
       "1    11.92万  \n",
       "2     8.56万  \n",
       "3     8.66万  \n",
       "4    11.59万  "
      ]
     },
     "execution_count": 7,
     "metadata": {},
     "output_type": "execute_result"
    }
   ],
   "source": [
    "import pandas as pd\n",
    "path = r\"D:\\ProgramData\\python数据分析与挖掘\\Python数据分析与挖掘【326758】了解一下数据的基本情况（一）\\第9章 pandas模块的介绍\"\n",
    "sec_car = pd.read_csv(path + '\\sec_cars.csv')\n",
    "sec_car.head()"
   ]
  },
  {
   "cell_type": "code",
   "execution_count": 13,
   "metadata": {},
   "outputs": [
    {
     "data": {
      "text/plain": [
       "Brand                    object\n",
       "Name                     object\n",
       "Boarding_time    datetime64[ns]\n",
       "Km(W)                   float64\n",
       "Discharge                object\n",
       "Sec_price               float64\n",
       "New_price                object\n",
       "dtype: object"
      ]
     },
     "execution_count": 13,
     "metadata": {},
     "output_type": "execute_result"
    }
   ],
   "source": [
    "sec_car.dtypes"
   ]
  },
  {
   "cell_type": "code",
   "execution_count": 12,
   "metadata": {},
   "outputs": [],
   "source": [
    "sec_car.Boarding_time = pd.to_datetime(sec_car.Boarding_time, format = '%Y年%m月')"
   ]
  },
  {
   "cell_type": "code",
   "execution_count": 19,
   "metadata": {},
   "outputs": [
    {
     "data": {
      "text/plain": [
       "0         9.42万\n",
       "1        11.92万\n",
       "2         8.56万\n",
       "3         8.66万\n",
       "4        11.59万\n",
       "          ...  \n",
       "10978    22.46万\n",
       "10979    23.86万\n",
       "10980    23.86万\n",
       "10981    20.28万\n",
       "10982    28.65万\n",
       "Name: New_price, Length: 10983, dtype: object"
      ]
     },
     "execution_count": 19,
     "metadata": {},
     "output_type": "execute_result"
    }
   ],
   "source": [
    "sec_car.New_price[:-1]  # 切片对象为New_price的index"
   ]
  },
  {
   "cell_type": "code",
   "execution_count": 22,
   "metadata": {},
   "outputs": [
    {
     "data": {
      "text/plain": [
       "0         9.42\n",
       "1        11.92\n",
       "2         8.56\n",
       "3         8.66\n",
       "4        11.59\n",
       "         ...  \n",
       "10979    23.86\n",
       "10980    23.86\n",
       "10981    20.28\n",
       "10982    28.65\n",
       "10983    24.95\n",
       "Name: New_price, Length: 10984, dtype: float64"
      ]
     },
     "execution_count": 22,
     "metadata": {},
     "output_type": "execute_result"
    }
   ],
   "source": [
    "sec_car.New_price = sec_car.New_price.str[:-1].astype(float)  # 切片对象为New_price"
   ]
  }
 ],
 "metadata": {
  "kernelspec": {
   "display_name": "Python 3",
   "language": "python",
   "name": "python3"
  },
  "language_info": {
   "codemirror_mode": {
    "name": "ipython",
    "version": 3
   },
   "file_extension": ".py",
   "mimetype": "text/x-python",
   "name": "python",
   "nbconvert_exporter": "python",
   "pygments_lexer": "ipython3",
   "version": "3.7.6"
  }
 },
 "nbformat": 4,
 "nbformat_minor": 4
}
