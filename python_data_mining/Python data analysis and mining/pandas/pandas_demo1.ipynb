{
 "cells": [
  {
   "cell_type": "code",
   "execution_count": 7,
   "metadata": {},
   "outputs": [
    {
     "data": {
      "text/html": [
       "<div>\n",
       "<style scoped>\n",
       "    .dataframe tbody tr th:only-of-type {\n",
       "        vertical-align: middle;\n",
       "    }\n",
       "\n",
       "    .dataframe tbody tr th {\n",
       "        vertical-align: top;\n",
       "    }\n",
       "\n",
       "    .dataframe thead th {\n",
       "        text-align: right;\n",
       "    }\n",
       "</style>\n",
       "<table border=\"1\" class=\"dataframe\">\n",
       "  <thead>\n",
       "    <tr style=\"text-align: right;\">\n",
       "      <th></th>\n",
       "      <th>Brand</th>\n",
       "      <th>Name</th>\n",
       "      <th>Boarding_time</th>\n",
       "      <th>Km(W)</th>\n",
       "      <th>Discharge</th>\n",
       "      <th>Sec_price</th>\n",
       "      <th>New_price</th>\n",
       "    </tr>\n",
       "  </thead>\n",
       "  <tbody>\n",
       "    <tr>\n",
       "      <th>0</th>\n",
       "      <td>众泰</td>\n",
       "      <td>众泰T600 2016款 1.5T 手动 豪华型</td>\n",
       "      <td>2016年5月</td>\n",
       "      <td>3.96</td>\n",
       "      <td>国4</td>\n",
       "      <td>6.8</td>\n",
       "      <td>9.42万</td>\n",
       "    </tr>\n",
       "    <tr>\n",
       "      <th>1</th>\n",
       "      <td>众泰</td>\n",
       "      <td>众泰Z700 2016款 1.8T 手动 典雅型</td>\n",
       "      <td>2017年8月</td>\n",
       "      <td>0.08</td>\n",
       "      <td>国4,国5</td>\n",
       "      <td>8.8</td>\n",
       "      <td>11.92万</td>\n",
       "    </tr>\n",
       "    <tr>\n",
       "      <th>2</th>\n",
       "      <td>众泰</td>\n",
       "      <td>大迈X5 2015款 1.5T 手动 豪华型</td>\n",
       "      <td>2016年9月</td>\n",
       "      <td>0.80</td>\n",
       "      <td>国4</td>\n",
       "      <td>5.8</td>\n",
       "      <td>8.56万</td>\n",
       "    </tr>\n",
       "    <tr>\n",
       "      <th>3</th>\n",
       "      <td>众泰</td>\n",
       "      <td>众泰T600 2017款 1.5T 手动 精英贺岁版</td>\n",
       "      <td>2017年3月</td>\n",
       "      <td>0.30</td>\n",
       "      <td>国5</td>\n",
       "      <td>6.2</td>\n",
       "      <td>8.66万</td>\n",
       "    </tr>\n",
       "    <tr>\n",
       "      <th>4</th>\n",
       "      <td>众泰</td>\n",
       "      <td>众泰T600 2016款 1.5T 手动 旗舰型</td>\n",
       "      <td>2016年2月</td>\n",
       "      <td>1.70</td>\n",
       "      <td>国4</td>\n",
       "      <td>7.0</td>\n",
       "      <td>11.59万</td>\n",
       "    </tr>\n",
       "  </tbody>\n",
       "</table>\n",
       "</div>"
      ],
      "text/plain": [
       "  Brand                        Name Boarding_time  Km(W) Discharge  Sec_price  \\\n",
       "0    众泰    众泰T600 2016款 1.5T 手动 豪华型       2016年5月   3.96        国4        6.8   \n",
       "1    众泰    众泰Z700 2016款 1.8T 手动 典雅型       2017年8月   0.08     国4,国5        8.8   \n",
       "2    众泰      大迈X5 2015款 1.5T 手动 豪华型       2016年9月   0.80        国4        5.8   \n",
       "3    众泰  众泰T600 2017款 1.5T 手动 精英贺岁版       2017年3月   0.30        国5        6.2   \n",
       "4    众泰    众泰T600 2016款 1.5T 手动 旗舰型       2016年2月   1.70        国4        7.0   \n",
       "\n",
       "  New_price  \n",
       "0     9.42万  \n",
       "1    11.92万  \n",
       "2     8.56万  \n",
       "3     8.66万  \n",
       "4    11.59万  "
      ]
     },
     "execution_count": 7,
     "metadata": {},
     "output_type": "execute_result"
    }
   ],
   "source": [
    "import pandas as pd\n",
    "path = r\"D:\\ProgramData\\python数据分析与挖掘\\Python数据分析与挖掘【326758】了解一下数据的基本情况（一）\\第9章 pandas模块的介绍\"\n",
    "sec_car = pd.read_csv(path + '\\sec_cars.csv')\n",
    "sec_car.head()"
   ]
  },
  {
   "cell_type": "code",
   "execution_count": 39,
   "metadata": {},
   "outputs": [
    {
     "data": {
      "text/plain": [
       "Brand                    object\n",
       "Name                     object\n",
       "Boarding_time    datetime64[ns]\n",
       "Km(W)                   float64\n",
       "Discharge                object\n",
       "Sec_price               float64\n",
       "New_price               float64\n",
       "dtype: object"
      ]
     },
     "execution_count": 39,
     "metadata": {},
     "output_type": "execute_result"
    }
   ],
   "source": [
    "sec_car.dtypes"
   ]
  },
  {
   "cell_type": "code",
   "execution_count": 12,
   "metadata": {},
   "outputs": [],
   "source": [
    "sec_car.Boarding_time = pd.to_datetime(sec_car.Boarding_time, format = '%Y年%m月')"
   ]
  },
  {
   "cell_type": "code",
   "execution_count": 26,
   "metadata": {
    "scrolled": true
   },
   "outputs": [
    {
     "data": {
      "text/plain": [
       "0         9.42\n",
       "1        11.92\n",
       "2         8.56\n",
       "3         8.66\n",
       "4        11.59\n",
       "         ...  \n",
       "10978    22.46\n",
       "10979    23.86\n",
       "10980    23.86\n",
       "10981    20.28\n",
       "10982    28.65\n",
       "Name: New_price, Length: 10983, dtype: float64"
      ]
     },
     "execution_count": 26,
     "metadata": {},
     "output_type": "execute_result"
    }
   ],
   "source": [
    "sec_car.New_price[:-1]  # 切片对象为New_price的index"
   ]
  },
  {
   "cell_type": "code",
   "execution_count": 41,
   "metadata": {
    "scrolled": true
   },
   "outputs": [
    {
     "ename": "AttributeError",
     "evalue": "Can only use .str accessor with string values!",
     "output_type": "error",
     "traceback": [
      "\u001b[1;31m---------------------------------------------------------------------------\u001b[0m",
      "\u001b[1;31mAttributeError\u001b[0m                            Traceback (most recent call last)",
      "\u001b[1;32m<ipython-input-41-f3dc1bd2e31d>\u001b[0m in \u001b[0;36m<module>\u001b[1;34m\u001b[0m\n\u001b[1;32m----> 1\u001b[1;33m \u001b[0msec_car\u001b[0m\u001b[1;33m.\u001b[0m\u001b[0mNew_price\u001b[0m \u001b[1;33m=\u001b[0m \u001b[0msec_car\u001b[0m\u001b[1;33m.\u001b[0m\u001b[0mNew_price\u001b[0m\u001b[1;33m.\u001b[0m\u001b[0mstr\u001b[0m\u001b[1;33m[\u001b[0m\u001b[1;33m:\u001b[0m\u001b[1;33m-\u001b[0m\u001b[1;36m1\u001b[0m\u001b[1;33m]\u001b[0m\u001b[1;33m.\u001b[0m\u001b[0mastype\u001b[0m\u001b[1;33m(\u001b[0m\u001b[0mfloat\u001b[0m\u001b[1;33m)\u001b[0m  \u001b[1;31m# 切片对象为New_price\u001b[0m\u001b[1;33m\u001b[0m\u001b[1;33m\u001b[0m\u001b[0m\n\u001b[0m",
      "\u001b[1;32mD:\\ProgramData\\Anaconda3\\lib\\site-packages\\pandas\\core\\generic.py\u001b[0m in \u001b[0;36m__getattr__\u001b[1;34m(self, name)\u001b[0m\n\u001b[0;32m   5268\u001b[0m             \u001b[1;32mor\u001b[0m \u001b[0mname\u001b[0m \u001b[1;32min\u001b[0m \u001b[0mself\u001b[0m\u001b[1;33m.\u001b[0m\u001b[0m_accessors\u001b[0m\u001b[1;33m\u001b[0m\u001b[1;33m\u001b[0m\u001b[0m\n\u001b[0;32m   5269\u001b[0m         ):\n\u001b[1;32m-> 5270\u001b[1;33m             \u001b[1;32mreturn\u001b[0m \u001b[0mobject\u001b[0m\u001b[1;33m.\u001b[0m\u001b[0m__getattribute__\u001b[0m\u001b[1;33m(\u001b[0m\u001b[0mself\u001b[0m\u001b[1;33m,\u001b[0m \u001b[0mname\u001b[0m\u001b[1;33m)\u001b[0m\u001b[1;33m\u001b[0m\u001b[1;33m\u001b[0m\u001b[0m\n\u001b[0m\u001b[0;32m   5271\u001b[0m         \u001b[1;32melse\u001b[0m\u001b[1;33m:\u001b[0m\u001b[1;33m\u001b[0m\u001b[1;33m\u001b[0m\u001b[0m\n\u001b[0;32m   5272\u001b[0m             \u001b[1;32mif\u001b[0m \u001b[0mself\u001b[0m\u001b[1;33m.\u001b[0m\u001b[0m_info_axis\u001b[0m\u001b[1;33m.\u001b[0m\u001b[0m_can_hold_identifiers_and_holds_name\u001b[0m\u001b[1;33m(\u001b[0m\u001b[0mname\u001b[0m\u001b[1;33m)\u001b[0m\u001b[1;33m:\u001b[0m\u001b[1;33m\u001b[0m\u001b[1;33m\u001b[0m\u001b[0m\n",
      "\u001b[1;32mD:\\ProgramData\\Anaconda3\\lib\\site-packages\\pandas\\core\\accessor.py\u001b[0m in \u001b[0;36m__get__\u001b[1;34m(self, obj, cls)\u001b[0m\n\u001b[0;32m    185\u001b[0m             \u001b[1;31m# we're accessing the attribute of the class, i.e., Dataset.geo\u001b[0m\u001b[1;33m\u001b[0m\u001b[1;33m\u001b[0m\u001b[1;33m\u001b[0m\u001b[0m\n\u001b[0;32m    186\u001b[0m             \u001b[1;32mreturn\u001b[0m \u001b[0mself\u001b[0m\u001b[1;33m.\u001b[0m\u001b[0m_accessor\u001b[0m\u001b[1;33m\u001b[0m\u001b[1;33m\u001b[0m\u001b[0m\n\u001b[1;32m--> 187\u001b[1;33m         \u001b[0maccessor_obj\u001b[0m \u001b[1;33m=\u001b[0m \u001b[0mself\u001b[0m\u001b[1;33m.\u001b[0m\u001b[0m_accessor\u001b[0m\u001b[1;33m(\u001b[0m\u001b[0mobj\u001b[0m\u001b[1;33m)\u001b[0m\u001b[1;33m\u001b[0m\u001b[1;33m\u001b[0m\u001b[0m\n\u001b[0m\u001b[0;32m    188\u001b[0m         \u001b[1;31m# Replace the property with the accessor object. Inspired by:\u001b[0m\u001b[1;33m\u001b[0m\u001b[1;33m\u001b[0m\u001b[1;33m\u001b[0m\u001b[0m\n\u001b[0;32m    189\u001b[0m         \u001b[1;31m# http://www.pydanny.com/cached-property.html\u001b[0m\u001b[1;33m\u001b[0m\u001b[1;33m\u001b[0m\u001b[1;33m\u001b[0m\u001b[0m\n",
      "\u001b[1;32mD:\\ProgramData\\Anaconda3\\lib\\site-packages\\pandas\\core\\strings.py\u001b[0m in \u001b[0;36m__init__\u001b[1;34m(self, data)\u001b[0m\n\u001b[0;32m   2037\u001b[0m \u001b[1;33m\u001b[0m\u001b[0m\n\u001b[0;32m   2038\u001b[0m     \u001b[1;32mdef\u001b[0m \u001b[0m__init__\u001b[0m\u001b[1;33m(\u001b[0m\u001b[0mself\u001b[0m\u001b[1;33m,\u001b[0m \u001b[0mdata\u001b[0m\u001b[1;33m)\u001b[0m\u001b[1;33m:\u001b[0m\u001b[1;33m\u001b[0m\u001b[1;33m\u001b[0m\u001b[0m\n\u001b[1;32m-> 2039\u001b[1;33m         \u001b[0mself\u001b[0m\u001b[1;33m.\u001b[0m\u001b[0m_inferred_dtype\u001b[0m \u001b[1;33m=\u001b[0m \u001b[0mself\u001b[0m\u001b[1;33m.\u001b[0m\u001b[0m_validate\u001b[0m\u001b[1;33m(\u001b[0m\u001b[0mdata\u001b[0m\u001b[1;33m)\u001b[0m\u001b[1;33m\u001b[0m\u001b[1;33m\u001b[0m\u001b[0m\n\u001b[0m\u001b[0;32m   2040\u001b[0m         \u001b[0mself\u001b[0m\u001b[1;33m.\u001b[0m\u001b[0m_is_categorical\u001b[0m \u001b[1;33m=\u001b[0m \u001b[0mis_categorical_dtype\u001b[0m\u001b[1;33m(\u001b[0m\u001b[0mdata\u001b[0m\u001b[1;33m)\u001b[0m\u001b[1;33m\u001b[0m\u001b[1;33m\u001b[0m\u001b[0m\n\u001b[0;32m   2041\u001b[0m         \u001b[0mself\u001b[0m\u001b[1;33m.\u001b[0m\u001b[0m_is_string\u001b[0m \u001b[1;33m=\u001b[0m \u001b[0mdata\u001b[0m\u001b[1;33m.\u001b[0m\u001b[0mdtype\u001b[0m\u001b[1;33m.\u001b[0m\u001b[0mname\u001b[0m \u001b[1;33m==\u001b[0m \u001b[1;34m\"string\"\u001b[0m\u001b[1;33m\u001b[0m\u001b[1;33m\u001b[0m\u001b[0m\n",
      "\u001b[1;32mD:\\ProgramData\\Anaconda3\\lib\\site-packages\\pandas\\core\\strings.py\u001b[0m in \u001b[0;36m_validate\u001b[1;34m(data)\u001b[0m\n\u001b[0;32m   2094\u001b[0m \u001b[1;33m\u001b[0m\u001b[0m\n\u001b[0;32m   2095\u001b[0m         \u001b[1;32mif\u001b[0m \u001b[0minferred_dtype\u001b[0m \u001b[1;32mnot\u001b[0m \u001b[1;32min\u001b[0m \u001b[0mallowed_types\u001b[0m\u001b[1;33m:\u001b[0m\u001b[1;33m\u001b[0m\u001b[1;33m\u001b[0m\u001b[0m\n\u001b[1;32m-> 2096\u001b[1;33m             \u001b[1;32mraise\u001b[0m \u001b[0mAttributeError\u001b[0m\u001b[1;33m(\u001b[0m\u001b[1;34m\"Can only use .str accessor with string values!\"\u001b[0m\u001b[1;33m)\u001b[0m\u001b[1;33m\u001b[0m\u001b[1;33m\u001b[0m\u001b[0m\n\u001b[0m\u001b[0;32m   2097\u001b[0m         \u001b[1;32mreturn\u001b[0m \u001b[0minferred_dtype\u001b[0m\u001b[1;33m\u001b[0m\u001b[1;33m\u001b[0m\u001b[0m\n\u001b[0;32m   2098\u001b[0m \u001b[1;33m\u001b[0m\u001b[0m\n",
      "\u001b[1;31mAttributeError\u001b[0m: Can only use .str accessor with string values!"
     ]
    }
   ],
   "source": [
    "sec_car.New_price = sec_car.New_price.str[:-1].astype(float)  # 切片对象为New_price"
   ]
  },
  {
   "cell_type": "code",
   "execution_count": 42,
   "metadata": {},
   "outputs": [
    {
     "data": {
      "text/html": [
       "<div>\n",
       "<style scoped>\n",
       "    .dataframe tbody tr th:only-of-type {\n",
       "        vertical-align: middle;\n",
       "    }\n",
       "\n",
       "    .dataframe tbody tr th {\n",
       "        vertical-align: top;\n",
       "    }\n",
       "\n",
       "    .dataframe thead th {\n",
       "        text-align: right;\n",
       "    }\n",
       "</style>\n",
       "<table border=\"1\" class=\"dataframe\">\n",
       "  <thead>\n",
       "    <tr style=\"text-align: right;\">\n",
       "      <th></th>\n",
       "      <th>appcategory</th>\n",
       "      <th>appname</th>\n",
       "      <th>comments</th>\n",
       "      <th>install</th>\n",
       "      <th>love</th>\n",
       "      <th>size</th>\n",
       "      <th>update</th>\n",
       "    </tr>\n",
       "  </thead>\n",
       "  <tbody>\n",
       "    <tr>\n",
       "      <th>0</th>\n",
       "      <td>网上购物-商城-团购-优惠-快递</td>\n",
       "      <td>每日优鲜</td>\n",
       "      <td>1297</td>\n",
       "      <td>204.7万</td>\n",
       "      <td>89.00%</td>\n",
       "      <td>15.16MB</td>\n",
       "      <td>2017年10月11日</td>\n",
       "    </tr>\n",
       "    <tr>\n",
       "      <th>1</th>\n",
       "      <td>网上购物-商城</td>\n",
       "      <td>苏宁易购</td>\n",
       "      <td>577</td>\n",
       "      <td>7996.8万</td>\n",
       "      <td>73.00%</td>\n",
       "      <td>58.9MB</td>\n",
       "      <td>2017年09月21日</td>\n",
       "    </tr>\n",
       "    <tr>\n",
       "      <th>2</th>\n",
       "      <td>网上购物-商城-优惠</td>\n",
       "      <td>唯品会</td>\n",
       "      <td>2543</td>\n",
       "      <td>7090.1万</td>\n",
       "      <td>86.00%</td>\n",
       "      <td>41.43MB</td>\n",
       "      <td>2017年10月13日</td>\n",
       "    </tr>\n",
       "    <tr>\n",
       "      <th>3</th>\n",
       "      <td>网上购物-商城-优惠</td>\n",
       "      <td>唯品会</td>\n",
       "      <td>2543</td>\n",
       "      <td>7090.1万</td>\n",
       "      <td>86.00%</td>\n",
       "      <td>41.43MB</td>\n",
       "      <td>2017年10月13日</td>\n",
       "    </tr>\n",
       "    <tr>\n",
       "      <th>4</th>\n",
       "      <td>网上购物-商城</td>\n",
       "      <td>拼多多</td>\n",
       "      <td>1921</td>\n",
       "      <td>3841.9万</td>\n",
       "      <td>95.00%</td>\n",
       "      <td>13.35MB</td>\n",
       "      <td>2017年10月11日</td>\n",
       "    </tr>\n",
       "  </tbody>\n",
       "</table>\n",
       "</div>"
      ],
      "text/plain": [
       "        appcategory appname  comments  install    love     size       update\n",
       "0  网上购物-商城-团购-优惠-快递    每日优鲜      1297   204.7万  89.00%  15.16MB  2017年10月11日\n",
       "1           网上购物-商城    苏宁易购       577  7996.8万  73.00%   58.9MB  2017年09月21日\n",
       "2        网上购物-商城-优惠     唯品会      2543  7090.1万  86.00%  41.43MB  2017年10月13日\n",
       "3        网上购物-商城-优惠     唯品会      2543  7090.1万  86.00%  41.43MB  2017年10月13日\n",
       "4           网上购物-商城     拼多多      1921  3841.9万  95.00%  13.35MB  2017年10月11日"
      ]
     },
     "execution_count": 42,
     "metadata": {},
     "output_type": "execute_result"
    }
   ],
   "source": [
    "data = pd.read_excel(r\"D:\\ProgramData\\python数据分析与挖掘\\Python数据分析与挖掘【326758】了解一下数据的基本情况（一）\\第9章 pandas模块的介绍\\data_test04.xlsx\")\n",
    "data.head()"
   ]
  },
  {
   "cell_type": "code",
   "execution_count": 50,
   "metadata": {},
   "outputs": [
    {
     "data": {
      "text/html": [
       "<div>\n",
       "<style scoped>\n",
       "    .dataframe tbody tr th:only-of-type {\n",
       "        vertical-align: middle;\n",
       "    }\n",
       "\n",
       "    .dataframe tbody tr th {\n",
       "        vertical-align: top;\n",
       "    }\n",
       "\n",
       "    .dataframe thead th {\n",
       "        text-align: right;\n",
       "    }\n",
       "</style>\n",
       "<table border=\"1\" class=\"dataframe\">\n",
       "  <thead>\n",
       "    <tr style=\"text-align: right;\">\n",
       "      <th></th>\n",
       "      <th>appcategory</th>\n",
       "      <th>appname</th>\n",
       "      <th>comments</th>\n",
       "      <th>install</th>\n",
       "      <th>love</th>\n",
       "      <th>size</th>\n",
       "      <th>update</th>\n",
       "    </tr>\n",
       "  </thead>\n",
       "  <tbody>\n",
       "    <tr>\n",
       "      <th>0</th>\n",
       "      <td>网上购物-商城-团购-优惠-快递</td>\n",
       "      <td>每日优鲜</td>\n",
       "      <td>1297</td>\n",
       "      <td>204.7万</td>\n",
       "      <td>89.00%</td>\n",
       "      <td>15.16MB</td>\n",
       "      <td>2017年10月11日</td>\n",
       "    </tr>\n",
       "    <tr>\n",
       "      <th>1</th>\n",
       "      <td>网上购物-商城</td>\n",
       "      <td>苏宁易购</td>\n",
       "      <td>577</td>\n",
       "      <td>7996.8万</td>\n",
       "      <td>73.00%</td>\n",
       "      <td>58.9MB</td>\n",
       "      <td>2017年09月21日</td>\n",
       "    </tr>\n",
       "    <tr>\n",
       "      <th>2</th>\n",
       "      <td>网上购物-商城-优惠</td>\n",
       "      <td>唯品会</td>\n",
       "      <td>2543</td>\n",
       "      <td>7090.1万</td>\n",
       "      <td>86.00%</td>\n",
       "      <td>41.43MB</td>\n",
       "      <td>2017年10月13日</td>\n",
       "    </tr>\n",
       "    <tr>\n",
       "      <th>4</th>\n",
       "      <td>网上购物-商城</td>\n",
       "      <td>拼多多</td>\n",
       "      <td>1921</td>\n",
       "      <td>3841.9万</td>\n",
       "      <td>95.00%</td>\n",
       "      <td>13.35MB</td>\n",
       "      <td>2017年10月11日</td>\n",
       "    </tr>\n",
       "    <tr>\n",
       "      <th>5</th>\n",
       "      <td>网上购物-商城-优惠</td>\n",
       "      <td>寺库奢侈品</td>\n",
       "      <td>1964</td>\n",
       "      <td>175.4万</td>\n",
       "      <td>100.00%</td>\n",
       "      <td>17.21MB</td>\n",
       "      <td>2017年09月30日</td>\n",
       "    </tr>\n",
       "    <tr>\n",
       "      <th>6</th>\n",
       "      <td>网上购物-商城</td>\n",
       "      <td>淘宝</td>\n",
       "      <td>14244</td>\n",
       "      <td>4.6亿</td>\n",
       "      <td>68.00%</td>\n",
       "      <td>73.78MB</td>\n",
       "      <td>2017年10月13日</td>\n",
       "    </tr>\n",
       "    <tr>\n",
       "      <th>7</th>\n",
       "      <td>网上购物-商城-团购-优惠</td>\n",
       "      <td>当当</td>\n",
       "      <td>134</td>\n",
       "      <td>1615.3万</td>\n",
       "      <td>61.00%</td>\n",
       "      <td>37.01MB</td>\n",
       "      <td>2017年10月17日</td>\n",
       "    </tr>\n",
       "  </tbody>\n",
       "</table>\n",
       "</div>"
      ],
      "text/plain": [
       "        appcategory appname  comments  install     love     size       update\n",
       "0  网上购物-商城-团购-优惠-快递    每日优鲜      1297   204.7万   89.00%  15.16MB  2017年10月11日\n",
       "1           网上购物-商城    苏宁易购       577  7996.8万   73.00%   58.9MB  2017年09月21日\n",
       "2        网上购物-商城-优惠     唯品会      2543  7090.1万   86.00%  41.43MB  2017年10月13日\n",
       "4           网上购物-商城     拼多多      1921  3841.9万   95.00%  13.35MB  2017年10月11日\n",
       "5        网上购物-商城-优惠   寺库奢侈品      1964   175.4万  100.00%  17.21MB  2017年09月30日\n",
       "6           网上购物-商城      淘宝     14244     4.6亿   68.00%  73.78MB  2017年10月13日\n",
       "7     网上购物-商城-团购-优惠      当当       134  1615.3万   61.00%  37.01MB  2017年10月17日"
      ]
     },
     "execution_count": 50,
     "metadata": {},
     "output_type": "execute_result"
    }
   ],
   "source": [
    "data.duplicated(subset='appname')  # 查看重复冗余行\n",
    "data.drop_duplicates(inplace=True)\n",
    "data"
   ]
  },
  {
   "cell_type": "code",
   "execution_count": null,
   "metadata": {},
   "outputs": [],
   "source": []
  }
 ],
 "metadata": {
  "kernelspec": {
   "display_name": "Python 3",
   "language": "python",
   "name": "python3"
  },
  "language_info": {
   "codemirror_mode": {
    "name": "ipython",
    "version": 3
   },
   "file_extension": ".py",
   "mimetype": "text/x-python",
   "name": "python",
   "nbconvert_exporter": "python",
   "pygments_lexer": "ipython3",
   "version": "3.7.6"
  }
 },
 "nbformat": 4,
 "nbformat_minor": 4
}
